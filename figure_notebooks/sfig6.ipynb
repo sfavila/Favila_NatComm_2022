{
 "cells": [
  {
   "cell_type": "markdown",
   "metadata": {},
   "source": [
    "# Supplementary Figure 6"
   ]
  },
  {
   "cell_type": "code",
   "execution_count": 1,
   "metadata": {},
   "outputs": [],
   "source": [
    "import os.path as op\n",
    "import pandas as pd\n",
    "import numpy as np\n",
    "from sklearn import linear_model\n",
    "from sklearn.metrics import r2_score\n",
    "import itertools\n",
    "import seaborn as sns\n",
    "import matplotlib.pyplot as plt\n",
    "import plotutils"
   ]
  },
  {
   "cell_type": "code",
   "execution_count": 2,
   "metadata": {},
   "outputs": [],
   "source": [
    "df_dir = op.join('..', 'data', 'dataframes')"
   ]
  },
  {
   "cell_type": "code",
   "execution_count": 3,
   "metadata": {},
   "outputs": [],
   "source": [
    "subjects, rois, tasks = plotutils.default_data()"
   ]
  },
  {
   "cell_type": "code",
   "execution_count": 4,
   "metadata": {},
   "outputs": [],
   "source": [
    "plotutils.set_plot_style()"
   ]
  },
  {
   "cell_type": "markdown",
   "metadata": {},
   "source": [
    "### Load dataframes"
   ]
  },
  {
   "cell_type": "code",
   "execution_count": 5,
   "metadata": {},
   "outputs": [],
   "source": [
    "ang_data = pd.read_csv(op.join(df_dir, 'group_ang_data.csv'))\n",
    "ang_boots = pd.read_csv(op.join(df_dir, 'group_ang_data_boots.csv'))\n",
    "\n",
    "pred_data = pd.read_csv(op.join(df_dir, 'pRFpred_group_ang_data.csv'))\n",
    "pred_boots = pd.read_csv(op.join(df_dir, 'pRFpred_group_ang_data_boots.csv'))"
   ]
  },
  {
   "cell_type": "markdown",
   "metadata": {},
   "source": [
    "### Calculate prf prediction goodness-of-fit metrics"
   ]
  },
  {
   "cell_type": "code",
   "execution_count": 6,
   "metadata": {},
   "outputs": [],
   "source": [
    "def fit_scale(data, prediction):\n",
    "    \n",
    "    # find best fitting scale factor\n",
    "    data_mean = data.groupby(['ang_dist_bin']).mean()['beta_adj'].values\n",
    "    pred_mean = prediction.groupby(['ang_dist_bin']).mean()['beta_adj'].values\n",
    "    regr = linear_model.LinearRegression(fit_intercept=False)\n",
    "    regr.fit(pred_mean.reshape(-1, 1), data_mean.reshape(-1, 1))   \n",
    "    scale = regr.coef_.flatten()\n",
    "    \n",
    "    return scale"
   ]
  },
  {
   "cell_type": "code",
   "execution_count": 7,
   "metadata": {},
   "outputs": [],
   "source": [
    "def pred_r2(data, prediction, scale):\n",
    "    \n",
    "    # calculate r2 for prediction and scaled prediction\n",
    "    r2 = r2_score(data, prediction)\n",
    "    r2_scale = r2_score(data, scale*prediction) \n",
    "    \n",
    "    return r2, r2_scale"
   ]
  },
  {
   "cell_type": "code",
   "execution_count": 8,
   "metadata": {},
   "outputs": [],
   "source": [
    "def goodness_of_fit(pred, data, boots=False):\n",
    "    \n",
    "    r2_df = []\n",
    "    \n",
    "    # Group data and predictions \n",
    "    dg = data.groupby('task')\n",
    "    pg = pred.groupby('prf_model')\n",
    "    \n",
    "    # Calculate goodness of fit for each grouping \n",
    "    # of data and predictions\n",
    "    for (task, d), (pm, p) in itertools.product(dg, pg):\n",
    "        \n",
    "        # fit a scale factor across all rois\n",
    "        s = fit_scale(d, p)\n",
    "        \n",
    "        # group data and predictions by rois (and optionally boots)\n",
    "        if boots:\n",
    "            cols = ['roi', 'n_boot']\n",
    "        else:\n",
    "            cols = ['roi']\n",
    "        droi = d.groupby(cols)['beta_adj']\n",
    "        proi = p.groupby(cols)['beta_adj']\n",
    "        \n",
    "        # calculate r2 and r2 with scale factor \n",
    "        # separately for each roi\n",
    "        for ((dv, dr), (rv, pr)) in zip(droi, proi):\n",
    "                        \n",
    "            # get r2 metrics\n",
    "            r2, r2_scale = pred_r2(dr, pr, s)\n",
    "            \n",
    "            # save dataframe\n",
    "            d1 = dict(task=task, prf_model=pm,\n",
    "                      r2=r2, r2_scale=r2_scale, \n",
    "                      scale=s)\n",
    "            d2 = dict(zip(cols, np.atleast_1d(dv)))\n",
    "            r2_df.append(pd.DataFrame({**d1, **d2}))\n",
    "            \n",
    "    r2_df = pd.concat(r2_df).reset_index(drop=True)\n",
    "    r2_df = r2_df.melt(id_vars=['task', 'prf_model', 'scale']+cols, \n",
    "                       value_vars=['r2', 'r2_scale'], var_name=['acc_measure'])\n",
    "    \n",
    "    return r2_df"
   ]
  },
  {
   "cell_type": "code",
   "execution_count": 9,
   "metadata": {},
   "outputs": [],
   "source": [
    "pred_dog = pred_data.query(\"prf_model=='pred_dog'\").reset_index()\n",
    "r2_df = goodness_of_fit(pred_dog, ang_data)"
   ]
  },
  {
   "cell_type": "code",
   "execution_count": 10,
   "metadata": {},
   "outputs": [],
   "source": [
    "pred_dog_boots = pred_boots.query(\"prf_model=='pred_dog'\").reset_index()\n",
    "r2_boots_df = goodness_of_fit(pred_dog_boots, ang_boots, boots=True)"
   ]
  },
  {
   "cell_type": "code",
   "execution_count": 11,
   "metadata": {},
   "outputs": [],
   "source": [
    "prf_conf = (r2_boots_df.groupby(['roi', 'task', 'prf_model', 'acc_measure'])['value']\n",
    "                               .apply(np.percentile, [16, 84])\n",
    "                               .reset_index())"
   ]
  },
  {
   "cell_type": "markdown",
   "metadata": {},
   "source": [
    "### Supplementary Figure 6"
   ]
  },
  {
   "cell_type": "code",
   "execution_count": 12,
   "metadata": {},
   "outputs": [],
   "source": [
    "pal = ['#1b9e77', '#82c8b3']\n",
    "pal_dict = dict(zip(tasks, pal))\n",
    "z_dict = dict(zip(tasks, [-10, 10]))"
   ]
  },
  {
   "cell_type": "code",
   "execution_count": 13,
   "metadata": {},
   "outputs": [
    {
     "data": {
      "image/png": "[encoded data removed]",
      "text/plain": [
       "<Figure size 388.8x432 with 2 Axes>"
      ]
     },
     "metadata": {
      "needs_background": "light"
     },
     "output_type": "display_data"
    }
   ],
   "source": [
    "# Plot r2 and scaled r2 for perception and memory data for each roi\n",
    "g = sns.catplot(x='roi', y='value', order=rois, row='acc_measure', \n",
    "                hue='task', palette=pal, hue_order=tasks, kind='point', \n",
    "                dodge=False, join=True, height=3, aspect=1.8, sharey=False, \n",
    "                legend=False, data=r2_df)\n",
    "\n",
    "# Plot error bars\n",
    "for i, measure in enumerate(g.row_names):\n",
    "    ax = g.axes.flatten()[i]\n",
    "    facet_df = prf_conf.query(\"acc_measure==@measure\")\n",
    "    for (task, roi), df in facet_df.groupby([\"task\", \"roi\"]):\n",
    "        x_i = rois.index(roi)\n",
    "        ax.plot([x_i, x_i], df['value'].iloc[0], linewidth=3, c=pal_dict[task],\n",
    "                alpha=1, zorder=z_dict[task], solid_capstyle='round')\n",
    "    \n",
    "g.set(xlabel='')\n",
    "g.axes[0][0].set()\n",
    "g.axes[0][0].set(yticks=[-20, -15, -10, -5, 0, 1], yticklabels=[-20, -15, -10, -5, \"\", 1])\n",
    "g.axes[0][0].set(ylabel='Model\\naccuracy ($R^2$)')\n",
    "g.axes[0][0].set_title('DoG+CSS')\n",
    "g.axes[1][0].set(ylim=[-3.5, 1.25], yticks=[-3, -2, -1, 0, 1])\n",
    "g.axes[1][0].set(ylabel='Scaled model\\naccuracy ($R^2$)')\n",
    "g.axes[1][0].set_title('')\n",
    "\n",
    "handles, labels = plt.gca().get_legend_handles_labels()\n",
    "plt.gca().legend(loc='center left', frameon=False, handletextpad=.5, \n",
    "                 bbox_to_anchor=(.45, 0.2))\n",
    "\n",
    "sns.despine(trim=True)\n",
    "plt.gcf().tight_layout(h_pad=1.5)"
   ]
  },
  {
   "cell_type": "code",
   "execution_count": 14,
   "metadata": {},
   "outputs": [
    {
     "data": {
      "text/html": [
       "<div>\n",
       "<style scoped>\n",
       "    .dataframe tbody tr th:only-of-type {\n",
       "        vertical-align: middle;\n",
       "    }\n",
       "\n",
       "    .dataframe tbody tr th {\n",
       "        vertical-align: top;\n",
       "    }\n",
       "\n",
       "    .dataframe thead th {\n",
       "        text-align: right;\n",
       "    }\n",
       "</style>\n",
       "<table border=\"1\" class=\"dataframe\">\n",
       "  <thead>\n",
       "    <tr style=\"text-align: right;\">\n",
       "      <th></th>\n",
       "      <th></th>\n",
       "      <th>amax</th>\n",
       "      <th>amin</th>\n",
       "    </tr>\n",
       "    <tr>\n",
       "      <th>task</th>\n",
       "      <th>acc_measure</th>\n",
       "      <th></th>\n",
       "      <th></th>\n",
       "    </tr>\n",
       "  </thead>\n",
       "  <tbody>\n",
       "    <tr>\n",
       "      <th rowspan=\"2\" valign=\"top\">memory</th>\n",
       "      <th>r2</th>\n",
       "      <td>-1.841189</td>\n",
       "      <td>-11.889746</td>\n",
       "    </tr>\n",
       "    <tr>\n",
       "      <th>r2_scale</th>\n",
       "      <td>0.924674</td>\n",
       "      <td>-1.326407</td>\n",
       "    </tr>\n",
       "    <tr>\n",
       "      <th rowspan=\"2\" valign=\"top\">perception</th>\n",
       "      <th>r2</th>\n",
       "      <td>0.928083</td>\n",
       "      <td>0.652075</td>\n",
       "    </tr>\n",
       "    <tr>\n",
       "      <th>r2_scale</th>\n",
       "      <td>0.920566</td>\n",
       "      <td>0.610133</td>\n",
       "    </tr>\n",
       "  </tbody>\n",
       "</table>\n",
       "</div>"
      ],
      "text/plain": [
       "                            amax       amin\n",
       "task       acc_measure                     \n",
       "memory     r2          -1.841189 -11.889746\n",
       "           r2_scale     0.924674  -1.326407\n",
       "perception r2           0.928083   0.652075\n",
       "           r2_scale     0.920566   0.610133"
      ]
     },
     "execution_count": 14,
     "metadata": {},
     "output_type": "execute_result"
    }
   ],
   "source": [
    "r2_df.groupby(['task', 'acc_measure']).agg([np.max, np.min])['value']"
   ]
  }
 ],
 "metadata": {
  "kernelspec": {
   "display_name": "Python 3 (ipykernel)",
   "language": "python",
   "name": "python3"
  },
  "language_info": {
   "codemirror_mode": {
    "name": "ipython",
    "version": 3
   },
   "file_extension": ".py",
   "mimetype": "text/x-python",
   "name": "python",
   "nbconvert_exporter": "python",
   "pygments_lexer": "ipython3",
   "version": "3.8.11"
  }
 },
 "nbformat": 4,
 "nbformat_minor": 4
}
