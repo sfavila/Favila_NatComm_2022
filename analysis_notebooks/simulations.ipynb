{
 "cells": [
  {
   "cell_type": "markdown",
   "metadata": {},
   "source": [
    "# Simulations\n",
    "\n",
    "* Runs simulations\n",
    "* Creates dataframes that support the figures."
   ]
  },
  {
   "cell_type": "code",
   "execution_count": 1,
   "metadata": {},
   "outputs": [],
   "source": [
    "import os\n",
    "import os.path as op\n",
    "import numpy as np\n",
    "from numpy.random import SeedSequence, default_rng\n",
    "import pandas as pd\n",
    "import utils\n",
    "import ipyparallel as ipp"
   ]
  },
  {
   "cell_type": "markdown",
   "metadata": {},
   "source": [
    "____________\n",
    "## Set up"
   ]
  },
  {
   "cell_type": "markdown",
   "metadata": {},
   "source": [
    "Parallelization"
   ]
  },
  {
   "cell_type": "code",
   "execution_count": 2,
   "metadata": {},
   "outputs": [
    {
     "name": "stdout",
     "output_type": "stream",
     "text": [
      "Using existing profile dir: '/Users/sfavila/.ipython/profile_default'\n",
      "Starting 4 engines with <class 'ipyparallel.cluster.launcher.LocalEngineSetLauncher'>\n"
     ]
    }
   ],
   "source": [
    "cluster = ipp.Cluster(n=4)\n",
    "cluster.start_cluster_sync()"
   ]
  },
  {
   "cell_type": "code",
   "execution_count": 3,
   "metadata": {},
   "outputs": [
    {
     "name": "stdout",
     "output_type": "stream",
     "text": [
      "100%|█████████████████████████████████████████████████████████████████████████████| 4/4 [00:07<00:00,  1.76s/engine]\n"
     ]
    },
    {
     "data": {
      "text/plain": [
       "[0, 1, 2, 3]"
      ]
     },
     "execution_count": 3,
     "metadata": {},
     "output_type": "execute_result"
    }
   ],
   "source": [
    "rc = cluster.connect_client_sync()\n",
    "rc.wait_for_engines(4); rc.ids"
   ]
  },
  {
   "cell_type": "code",
   "execution_count": 4,
   "metadata": {},
   "outputs": [],
   "source": [
    "dv = rc[:]\n",
    "v = rc.load_balanced_view()"
   ]
  },
  {
   "cell_type": "markdown",
   "metadata": {},
   "source": [
    "Assign project paths and variables"
   ]
  },
  {
   "cell_type": "code",
   "execution_count": 5,
   "metadata": {},
   "outputs": [],
   "source": [
    "data_dir = op.join('..', 'data')\n",
    "df_dir = op.join(data_dir, 'dataframes')"
   ]
  },
  {
   "cell_type": "code",
   "execution_count": 6,
   "metadata": {},
   "outputs": [],
   "source": [
    "subjects, rois, tasks = utils.default_data()"
   ]
  },
  {
   "cell_type": "markdown",
   "metadata": {},
   "source": [
    "Assign random seed"
   ]
  },
  {
   "cell_type": "code",
   "execution_count": 7,
   "metadata": {},
   "outputs": [],
   "source": [
    "entropy = 157245829812966997872450835235695796168 \n",
    "ss = SeedSequence(entropy, n_children_spawned=500)"
   ]
  },
  {
   "cell_type": "markdown",
   "metadata": {},
   "source": [
    "------------------------\n",
    "## Data Loading "
   ]
  },
  {
   "cell_type": "markdown",
   "metadata": {},
   "source": [
    "#### Load stim assignment"
   ]
  },
  {
   "cell_type": "code",
   "execution_count": 8,
   "metadata": {},
   "outputs": [],
   "source": [
    "stim_info = []\n",
    "for s_i, subj in enumerate(subjects):\n",
    "    stim_file = op.join(data_dir,  subj, 'behav', 'stim_info.csv')\n",
    "    s = pd.read_csv(stim_file).sort_values(by='stim_id').set_index('stim_id')\n",
    "    stim_info.append(s)"
   ]
  },
  {
   "cell_type": "markdown",
   "metadata": {},
   "source": [
    "#### Load vertex data "
   ]
  },
  {
   "cell_type": "code",
   "execution_count": 9,
   "metadata": {},
   "outputs": [],
   "source": [
    "vert_data = pd.read_csv(op.join(df_dir, 'vertex_data.csv.gz'))\n",
    "\n",
    "# Reduce to essential columns\n",
    "core_cols = ['subj', 'hemi', 'roi', 'vert', 'task', 'stim_id', \n",
    "             'stim_angle_brain', 'full-angle', 'ang_dist_bin', 'eccen_bin', 'beta', 'se']\n",
    "vert_data = vert_data[core_cols]  "
   ]
  },
  {
   "cell_type": "markdown",
   "metadata": {},
   "source": [
    "____________________________\n",
    "## Simulate spatial response profiles under different noise assumptions"
   ]
  },
  {
   "cell_type": "code",
   "execution_count": 10,
   "metadata": {},
   "outputs": [
    {
     "data": {
      "text/plain": [
       "<AsyncResult: _push>"
      ]
     },
     "execution_count": 10,
     "metadata": {},
     "output_type": "execute_result"
    }
   ],
   "source": [
    "dv.push({\"vert_data\":vert_data, \"subjects\":subjects, \"n_sims\":100, \"stim_ids\":stim_info[0].index.values})"
   ]
  },
  {
   "cell_type": "markdown",
   "metadata": {},
   "source": [
    "### 1. SNR Simulation"
   ]
  },
  {
   "cell_type": "code",
   "execution_count": 11,
   "metadata": {},
   "outputs": [],
   "source": [
    "def snr_simulation(stim_group):\n",
    "        \n",
    "    import numpy\n",
    "    import pandas\n",
    "        \n",
    "    (rng, ((subj, roi, stim), stim_df)) = stim_group\n",
    "        \n",
    "    # Rename beta in our df\n",
    "    stim_df = stim_df.rename(columns={'beta':'beta_true'})\n",
    "    \n",
    "    # Get the median beta and standard error for each voxel during perception and memory\n",
    "    med_p = stim_df.query(\"task=='perception'\")['beta_true'].values\n",
    "    med_m = stim_df.query(\"task=='memory'\")['beta_true'].values\n",
    "    se_p = stim_df.query(\"task=='perception'\")['se'].values\n",
    "    se_m = stim_df.query(\"task=='memory'\")['se'].values\n",
    "    \n",
    "    # Calculate snr \n",
    "    snr_p = numpy.abs(med_p) / se_p\n",
    "    snr_m = numpy.abs(med_m) / se_m\n",
    "    \n",
    "    # Calculate the ratio of perception to memory snr\n",
    "    snr_ratio = snr_p / snr_m \n",
    "    \n",
    "    # Scale up each voxels noise\n",
    "    if noise_factor == 0:\n",
    "        se_new = se_p * 1\n",
    "    else:\n",
    "        se_new = noise_factor * ((med_p * se_m) / med_m)\n",
    "    \n",
    "    # New snr ratio\n",
    "    snr_p_new = numpy.abs(med_p) / se_new\n",
    "    snr_ratio_new = snr_p_new / snr_m\n",
    "    \n",
    "    # Generate datasets with new parameter estimates drawn from noiser distribution\n",
    "    sim_betas = []\n",
    "    for i in numpy.arange(n_sims): \n",
    "        c = rng.normal(0, 1)  \n",
    "        s_i = se_new * c #multiple all ses by a common scale factor to make amount of noise in each vox correlated\n",
    "        n = [m+s for (m,s) in zip(med_p, s_i)] #add noise values to medians to get parameters for this dataset\n",
    "        sim_betas.append(n)\n",
    "    sim_betas = numpy.vstack(sim_betas).T\n",
    "    \n",
    "    # Create new dataframe with all simulations\n",
    "    sim_df  = pandas.DataFrame(sim_betas, columns=numpy.arange(n_sims))\n",
    "    info_df = stim_df.query(\"task=='perception'\").reset_index(drop=True)\n",
    "    info_df = info_df.assign(snr_per=snr_p, snr_mem=snr_m, \n",
    "                             snr_ratio=snr_ratio, snr_ratio_new=snr_ratio_new)\n",
    "    sim_data = pandas.concat([info_df, sim_df], axis=1)\n",
    "    sim_data = sim_data.melt(id_vars=sim_data.columns[:-n_sims], var_name='simulation', value_name='beta')\n",
    "    sim_data = sim_data.assign(noise_factor=noise_factor)\n",
    "    \n",
    "    return sim_data"
   ]
  },
  {
   "cell_type": "code",
   "execution_count": 12,
   "metadata": {},
   "outputs": [
    {
     "name": "stderr",
     "output_type": "stream",
     "text": [
      "/Volumes/server/Projects/Spatial_Memory/public/osf/analysis_notebooks/utils.py:71: RuntimeWarning: overflow encountered in multiply\n",
      "  p = scale * np.exp(kappa*np.cos(theta-loc))/(2*np.pi*iv(0,kappa))\n",
      "/Volumes/server/Projects/Spatial_Memory/public/osf/analysis_notebooks/utils.py:71: RuntimeWarning: overflow encountered in double_scalars\n",
      "  p = scale * np.exp(kappa*np.cos(theta-loc))/(2*np.pi*iv(0,kappa))\n",
      "/Volumes/server/Projects/Spatial_Memory/public/osf/analysis_notebooks/utils.py:71: RuntimeWarning: invalid value encountered in true_divide\n",
      "  p = scale * np.exp(kappa*np.cos(theta-loc))/(2*np.pi*iv(0,kappa))\n",
      "/Volumes/server/Projects/Spatial_Memory/public/osf/analysis_notebooks/utils.py:71: RuntimeWarning: overflow encountered in exp\n",
      "  p = scale * np.exp(kappa*np.cos(theta-loc))/(2*np.pi*iv(0,kappa))\n",
      "/Volumes/server/Projects/Spatial_Memory/public/osf/analysis_notebooks/utils.py:71: RuntimeWarning: overflow encountered in double_scalars\n",
      "  p = scale * np.exp(kappa*np.cos(theta-loc))/(2*np.pi*iv(0,kappa))\n",
      "/Volumes/server/Projects/Spatial_Memory/public/osf/analysis_notebooks/utils.py:71: RuntimeWarning: overflow encountered in multiply\n",
      "  p = scale * np.exp(kappa*np.cos(theta-loc))/(2*np.pi*iv(0,kappa))\n",
      "/Volumes/server/Projects/Spatial_Memory/public/osf/analysis_notebooks/utils.py:71: RuntimeWarning: invalid value encountered in true_divide\n",
      "  p = scale * np.exp(kappa*np.cos(theta-loc))/(2*np.pi*iv(0,kappa))\n",
      "/Volumes/server/Projects/Spatial_Memory/public/osf/analysis_notebooks/utils.py:71: RuntimeWarning: overflow encountered in exp\n",
      "  p = scale * np.exp(kappa*np.cos(theta-loc))/(2*np.pi*iv(0,kappa))\n",
      "/Volumes/server/Projects/Spatial_Memory/public/osf/analysis_notebooks/utils.py:82: RuntimeWarning: invalid value encountered in subtract\n",
      "  d = Y - (max(Y) / 2)\n",
      "/Volumes/server/Projects/Spatial_Memory/public/osf/analysis_notebooks/utils.py:71: RuntimeWarning: overflow encountered in multiply\n",
      "  p = scale * np.exp(kappa*np.cos(theta-loc))/(2*np.pi*iv(0,kappa))\n",
      "/Volumes/server/Projects/Spatial_Memory/public/osf/analysis_notebooks/utils.py:71: RuntimeWarning: overflow encountered in double_scalars\n",
      "  p = scale * np.exp(kappa*np.cos(theta-loc))/(2*np.pi*iv(0,kappa))\n",
      "/Volumes/server/Projects/Spatial_Memory/public/osf/analysis_notebooks/utils.py:71: RuntimeWarning: invalid value encountered in true_divide\n",
      "  p = scale * np.exp(kappa*np.cos(theta-loc))/(2*np.pi*iv(0,kappa))\n",
      "/Volumes/server/Projects/Spatial_Memory/public/osf/analysis_notebooks/utils.py:71: RuntimeWarning: overflow encountered in exp\n",
      "  p = scale * np.exp(kappa*np.cos(theta-loc))/(2*np.pi*iv(0,kappa))\n"
     ]
    }
   ],
   "source": [
    "noise_range = [0, 1, 2, 4, 8]\n",
    "\n",
    "child_seeds = ss.spawn(len(noise_range))\n",
    "snr_norm, snr_params = [], []\n",
    "\n",
    "# Loop over each snr level\n",
    "for seed, nf in zip(child_seeds, noise_range):\n",
    "    \n",
    "    # Handle parallelization\n",
    "    dv.push({\"noise_factor\":nf})\n",
    "    d = vert_data.dropna(subset=['ang_dist_bin']).groupby(['subj', 'roi', 'stim_id'])\n",
    "    \n",
    "    grandchildren = seed.spawn(len(d))\n",
    "    grand_streams = [default_rng(s) for s in grandchildren]\n",
    "    \n",
    "    # Generate simulated data for this snr level\n",
    "    snr_data = v.map(snr_simulation, zip(grand_streams, d), ordered=False)\n",
    "    snr_data = pd.concat([n for n in snr_data])\n",
    "    \n",
    "    # Do averaging and von mises fitting\n",
    "    n = utils.norm_group(snr_data, group_cols=['noise_factor', 'simulation'])\n",
    "    p = utils.fit_diff_vonmises(n, 'beta_adj', group_cols=['noise_factor', 'simulation'])\n",
    "    \n",
    "    snr_norm.append(n)\n",
    "    snr_params.append(p)\n",
    "    \n",
    "snr_norm = pd.concat(snr_norm).reset_index(drop=True)\n",
    "snr_params = pd.concat(snr_params).reset_index(drop=True)"
   ]
  },
  {
   "cell_type": "code",
   "execution_count": 13,
   "metadata": {},
   "outputs": [],
   "source": [
    "snr_norm.to_csv(op.join(df_dir, 'sim_snr_group_ang_data.csv'), index=False)\n",
    "snr_params.to_csv(op.join(df_dir, 'sim_snr_group_ang_fits.csv'), index=False)"
   ]
  },
  {
   "cell_type": "code",
   "execution_count": 14,
   "metadata": {},
   "outputs": [],
   "source": [
    "del snr_data \n",
    "rc.purge_everything()"
   ]
  },
  {
   "cell_type": "markdown",
   "metadata": {},
   "source": [
    "### 2. Lapse Simulation"
   ]
  },
  {
   "cell_type": "code",
   "execution_count": 15,
   "metadata": {},
   "outputs": [],
   "source": [
    "def lapse_simulation(stim_group):\n",
    "        \n",
    "    import numpy\n",
    "    import pandas\n",
    "    \n",
    "    (rng, ((subj, roi, stim), stim_df)) = stim_group\n",
    "    \n",
    "    # Rename some info in our df\n",
    "    stim_df = stim_df.rename(columns={'beta':'beta_true'})\n",
    "    \n",
    "    # Get the median beta and standard error for each voxel during perception\n",
    "    med_p = stim_df.query(\"task=='perception'\")['beta_true'].values\n",
    "    se_p = stim_df.query(\"task=='perception'\")['se'].values\n",
    "    \n",
    "    sim_betas = []\n",
    "    for i in numpy.arange(n_sims):\n",
    "        \n",
    "        c = rng.normal(0, 1) \n",
    "        se_i = se_p * c #correlate noise across voxels\n",
    "        \n",
    "        sorder = rng.permutation(stim_ids)\n",
    "        if stim in sorder[:nrem]:\n",
    "            # some stim are drawn from perception distribution\n",
    "            n = [m + s for (m,s) in zip(med_p, se_i)]\n",
    "        else:\n",
    "            # others are drawn from distribution with a mean of zero (just noise)\n",
    "            n = [0 + s for s in se_i]\n",
    "        sim_betas.append(n)\n",
    "        \n",
    "    sim_betas = numpy.vstack(sim_betas).T\n",
    "    \n",
    "    # Create new dataframe with all simulations\n",
    "    sim_df  = pandas.DataFrame(sim_betas, columns=numpy.arange(n_sims))\n",
    "    info_df = stim_df.query(\"task=='perception'\").copy().reset_index(drop=True)\n",
    "    sim_data = pandas.concat([info_df, sim_df], axis=1)\n",
    "    sim_data = sim_data.melt(id_vars=sim_data.columns[:-n_sims], var_name='simulation', value_name='beta')\n",
    "    sim_data = sim_data.assign(nrem=nrem, nlapse=len(stim_ids)-nrem)\n",
    "               \n",
    "    return sim_data"
   ]
  },
  {
   "cell_type": "code",
   "execution_count": 16,
   "metadata": {},
   "outputs": [
    {
     "name": "stderr",
     "output_type": "stream",
     "text": [
      "/Volumes/server/Projects/Spatial_Memory/public/osf/analysis_notebooks/utils.py:71: RuntimeWarning: overflow encountered in double_scalars\n",
      "  p = scale * np.exp(kappa*np.cos(theta-loc))/(2*np.pi*iv(0,kappa))\n",
      "/Volumes/server/Projects/Spatial_Memory/public/osf/analysis_notebooks/utils.py:71: RuntimeWarning: overflow encountered in exp\n",
      "  p = scale * np.exp(kappa*np.cos(theta-loc))/(2*np.pi*iv(0,kappa))\n",
      "/Volumes/server/Projects/Spatial_Memory/public/osf/analysis_notebooks/utils.py:71: RuntimeWarning: overflow encountered in multiply\n",
      "  p = scale * np.exp(kappa*np.cos(theta-loc))/(2*np.pi*iv(0,kappa))\n",
      "/Volumes/server/Projects/Spatial_Memory/public/osf/analysis_notebooks/utils.py:71: RuntimeWarning: overflow encountered in double_scalars\n",
      "  p = scale * np.exp(kappa*np.cos(theta-loc))/(2*np.pi*iv(0,kappa))\n",
      "/Volumes/server/Projects/Spatial_Memory/public/osf/analysis_notebooks/utils.py:71: RuntimeWarning: overflow encountered in exp\n",
      "  p = scale * np.exp(kappa*np.cos(theta-loc))/(2*np.pi*iv(0,kappa))\n",
      "/Volumes/server/Projects/Spatial_Memory/public/osf/analysis_notebooks/utils.py:71: RuntimeWarning: overflow encountered in multiply\n",
      "  p = scale * np.exp(kappa*np.cos(theta-loc))/(2*np.pi*iv(0,kappa))\n",
      "/Volumes/server/Projects/Spatial_Memory/public/osf/analysis_notebooks/utils.py:82: RuntimeWarning: invalid value encountered in subtract\n",
      "  d = Y - (max(Y) / 2)\n",
      "/Volumes/server/Projects/Spatial_Memory/public/osf/analysis_notebooks/utils.py:71: RuntimeWarning: overflow encountered in double_scalars\n",
      "  p = scale * np.exp(kappa*np.cos(theta-loc))/(2*np.pi*iv(0,kappa))\n",
      "/Volumes/server/Projects/Spatial_Memory/public/osf/analysis_notebooks/utils.py:71: RuntimeWarning: overflow encountered in exp\n",
      "  p = scale * np.exp(kappa*np.cos(theta-loc))/(2*np.pi*iv(0,kappa))\n",
      "/Volumes/server/Projects/Spatial_Memory/public/osf/analysis_notebooks/utils.py:71: RuntimeWarning: overflow encountered in multiply\n",
      "  p = scale * np.exp(kappa*np.cos(theta-loc))/(2*np.pi*iv(0,kappa))\n",
      "/Volumes/server/Projects/Spatial_Memory/public/osf/analysis_notebooks/utils.py:82: RuntimeWarning: invalid value encountered in subtract\n",
      "  d = Y - (max(Y) / 2)\n",
      "/Volumes/server/Projects/Spatial_Memory/public/osf/analysis_notebooks/utils.py:71: RuntimeWarning: overflow encountered in multiply\n",
      "  p = scale * np.exp(kappa*np.cos(theta-loc))/(2*np.pi*iv(0,kappa))\n",
      "/Volumes/server/Projects/Spatial_Memory/public/osf/analysis_notebooks/utils.py:71: RuntimeWarning: invalid value encountered in true_divide\n",
      "  p = scale * np.exp(kappa*np.cos(theta-loc))/(2*np.pi*iv(0,kappa))\n",
      "/Volumes/server/Projects/Spatial_Memory/public/osf/analysis_notebooks/utils.py:71: RuntimeWarning: overflow encountered in double_scalars\n",
      "  p = scale * np.exp(kappa*np.cos(theta-loc))/(2*np.pi*iv(0,kappa))\n",
      "/Volumes/server/Projects/Spatial_Memory/public/osf/analysis_notebooks/utils.py:71: RuntimeWarning: overflow encountered in exp\n",
      "  p = scale * np.exp(kappa*np.cos(theta-loc))/(2*np.pi*iv(0,kappa))\n",
      "/Volumes/server/Projects/Spatial_Memory/public/osf/analysis_notebooks/utils.py:71: RuntimeWarning: overflow encountered in double_scalars\n",
      "  p = scale * np.exp(kappa*np.cos(theta-loc))/(2*np.pi*iv(0,kappa))\n",
      "/Volumes/server/Projects/Spatial_Memory/public/osf/analysis_notebooks/utils.py:71: RuntimeWarning: overflow encountered in multiply\n",
      "  p = scale * np.exp(kappa*np.cos(theta-loc))/(2*np.pi*iv(0,kappa))\n",
      "/Volumes/server/Projects/Spatial_Memory/public/osf/analysis_notebooks/utils.py:71: RuntimeWarning: invalid value encountered in true_divide\n",
      "  p = scale * np.exp(kappa*np.cos(theta-loc))/(2*np.pi*iv(0,kappa))\n",
      "/Volumes/server/Projects/Spatial_Memory/public/osf/analysis_notebooks/utils.py:71: RuntimeWarning: overflow encountered in exp\n",
      "  p = scale * np.exp(kappa*np.cos(theta-loc))/(2*np.pi*iv(0,kappa))\n",
      "/Volumes/server/Projects/Spatial_Memory/public/osf/analysis_notebooks/utils.py:82: RuntimeWarning: invalid value encountered in subtract\n",
      "  d = Y - (max(Y) / 2)\n",
      "/Volumes/server/Projects/Spatial_Memory/public/osf/analysis_notebooks/utils.py:71: RuntimeWarning: overflow encountered in double_scalars\n",
      "  p = scale * np.exp(kappa*np.cos(theta-loc))/(2*np.pi*iv(0,kappa))\n",
      "/Volumes/server/Projects/Spatial_Memory/public/osf/analysis_notebooks/utils.py:71: RuntimeWarning: overflow encountered in exp\n",
      "  p = scale * np.exp(kappa*np.cos(theta-loc))/(2*np.pi*iv(0,kappa))\n",
      "/Volumes/server/Projects/Spatial_Memory/public/osf/analysis_notebooks/utils.py:71: RuntimeWarning: overflow encountered in multiply\n",
      "  p = scale * np.exp(kappa*np.cos(theta-loc))/(2*np.pi*iv(0,kappa))\n",
      "/Volumes/server/Projects/Spatial_Memory/public/osf/analysis_notebooks/utils.py:82: RuntimeWarning: invalid value encountered in subtract\n",
      "  d = Y - (max(Y) / 2)\n",
      "/Volumes/server/Projects/Spatial_Memory/public/osf/analysis_notebooks/utils.py:71: RuntimeWarning: overflow encountered in multiply\n",
      "  p = scale * np.exp(kappa*np.cos(theta-loc))/(2*np.pi*iv(0,kappa))\n",
      "/Volumes/server/Projects/Spatial_Memory/public/osf/analysis_notebooks/utils.py:71: RuntimeWarning: invalid value encountered in true_divide\n",
      "  p = scale * np.exp(kappa*np.cos(theta-loc))/(2*np.pi*iv(0,kappa))\n",
      "/Volumes/server/Projects/Spatial_Memory/public/osf/analysis_notebooks/utils.py:71: RuntimeWarning: overflow encountered in double_scalars\n",
      "  p = scale * np.exp(kappa*np.cos(theta-loc))/(2*np.pi*iv(0,kappa))\n",
      "/Volumes/server/Projects/Spatial_Memory/public/osf/analysis_notebooks/utils.py:71: RuntimeWarning: overflow encountered in exp\n",
      "  p = scale * np.exp(kappa*np.cos(theta-loc))/(2*np.pi*iv(0,kappa))\n",
      "/Volumes/server/Projects/Spatial_Memory/public/osf/analysis_notebooks/utils.py:82: RuntimeWarning: invalid value encountered in subtract\n",
      "  d = Y - (max(Y) / 2)\n",
      "/Volumes/server/Projects/Spatial_Memory/public/osf/analysis_notebooks/utils.py:71: RuntimeWarning: overflow encountered in double_scalars\n",
      "  p = scale * np.exp(kappa*np.cos(theta-loc))/(2*np.pi*iv(0,kappa))\n",
      "/Volumes/server/Projects/Spatial_Memory/public/osf/analysis_notebooks/utils.py:71: RuntimeWarning: overflow encountered in exp\n",
      "  p = scale * np.exp(kappa*np.cos(theta-loc))/(2*np.pi*iv(0,kappa))\n",
      "/Volumes/server/Projects/Spatial_Memory/public/osf/analysis_notebooks/utils.py:71: RuntimeWarning: overflow encountered in multiply\n",
      "  p = scale * np.exp(kappa*np.cos(theta-loc))/(2*np.pi*iv(0,kappa))\n",
      "/Volumes/server/Projects/Spatial_Memory/public/osf/analysis_notebooks/utils.py:82: RuntimeWarning: invalid value encountered in subtract\n",
      "  d = Y - (max(Y) / 2)\n",
      "/Volumes/server/Projects/Spatial_Memory/public/osf/analysis_notebooks/utils.py:71: RuntimeWarning: overflow encountered in double_scalars\n",
      "  p = scale * np.exp(kappa*np.cos(theta-loc))/(2*np.pi*iv(0,kappa))\n",
      "/Volumes/server/Projects/Spatial_Memory/public/osf/analysis_notebooks/utils.py:71: RuntimeWarning: overflow encountered in exp\n",
      "  p = scale * np.exp(kappa*np.cos(theta-loc))/(2*np.pi*iv(0,kappa))\n",
      "/Volumes/server/Projects/Spatial_Memory/public/osf/analysis_notebooks/utils.py:71: RuntimeWarning: overflow encountered in multiply\n",
      "  p = scale * np.exp(kappa*np.cos(theta-loc))/(2*np.pi*iv(0,kappa))\n",
      "/Volumes/server/Projects/Spatial_Memory/public/osf/analysis_notebooks/utils.py:71: RuntimeWarning: overflow encountered in double_scalars\n",
      "  p = scale * np.exp(kappa*np.cos(theta-loc))/(2*np.pi*iv(0,kappa))\n",
      "/Volumes/server/Projects/Spatial_Memory/public/osf/analysis_notebooks/utils.py:71: RuntimeWarning: overflow encountered in exp\n",
      "  p = scale * np.exp(kappa*np.cos(theta-loc))/(2*np.pi*iv(0,kappa))\n",
      "/Volumes/server/Projects/Spatial_Memory/public/osf/analysis_notebooks/utils.py:71: RuntimeWarning: overflow encountered in multiply\n",
      "  p = scale * np.exp(kappa*np.cos(theta-loc))/(2*np.pi*iv(0,kappa))\n",
      "/Volumes/server/Projects/Spatial_Memory/public/osf/analysis_notebooks/utils.py:71: RuntimeWarning: overflow encountered in double_scalars\n",
      "  p = scale * np.exp(kappa*np.cos(theta-loc))/(2*np.pi*iv(0,kappa))\n",
      "/Volumes/server/Projects/Spatial_Memory/public/osf/analysis_notebooks/utils.py:71: RuntimeWarning: overflow encountered in multiply\n",
      "  p = scale * np.exp(kappa*np.cos(theta-loc))/(2*np.pi*iv(0,kappa))\n",
      "/Volumes/server/Projects/Spatial_Memory/public/osf/analysis_notebooks/utils.py:71: RuntimeWarning: invalid value encountered in true_divide\n",
      "  p = scale * np.exp(kappa*np.cos(theta-loc))/(2*np.pi*iv(0,kappa))\n",
      "/Volumes/server/Projects/Spatial_Memory/public/osf/analysis_notebooks/utils.py:71: RuntimeWarning: overflow encountered in exp\n",
      "  p = scale * np.exp(kappa*np.cos(theta-loc))/(2*np.pi*iv(0,kappa))\n"
     ]
    },
    {
     "name": "stderr",
     "output_type": "stream",
     "text": [
      "/Volumes/server/Projects/Spatial_Memory/public/osf/analysis_notebooks/utils.py:71: RuntimeWarning: overflow encountered in exp\n",
      "  p = scale * np.exp(kappa*np.cos(theta-loc))/(2*np.pi*iv(0,kappa))\n",
      "/Volumes/server/Projects/Spatial_Memory/public/osf/analysis_notebooks/utils.py:71: RuntimeWarning: invalid value encountered in true_divide\n",
      "  p = scale * np.exp(kappa*np.cos(theta-loc))/(2*np.pi*iv(0,kappa))\n",
      "/Volumes/server/Projects/Spatial_Memory/public/osf/analysis_notebooks/utils.py:71: RuntimeWarning: overflow encountered in double_scalars\n",
      "  p = scale * np.exp(kappa*np.cos(theta-loc))/(2*np.pi*iv(0,kappa))\n",
      "/Volumes/server/Projects/Spatial_Memory/public/osf/analysis_notebooks/utils.py:71: RuntimeWarning: overflow encountered in multiply\n",
      "  p = scale * np.exp(kappa*np.cos(theta-loc))/(2*np.pi*iv(0,kappa))\n"
     ]
    }
   ],
   "source": [
    "nrem_range = np.arange(0, 5)\n",
    "\n",
    "child_seeds = ss.spawn(len(nrem_range))\n",
    "lapse_norm, lapse_params = [], []\n",
    "\n",
    "# Loop over the inverse of lapse rate (number of stim remembered)\n",
    "for seed, nrem in zip(child_seeds, nrem_range):\n",
    "    \n",
    "    # Handle parallelization\n",
    "    dv.push({\"nrem\":nrem})\n",
    "    d = vert_data.dropna(subset=['ang_dist_bin']).groupby(['subj', 'roi', 'stim_id'])\n",
    "    \n",
    "    grandchildren = seed.spawn(len(d))\n",
    "    grand_streams = [default_rng(s) for s in grandchildren]\n",
    "    \n",
    "    # Generate simulated data for this rate\n",
    "    lapse_data = v.map(lapse_simulation, zip(grand_streams, d), ordered=False)\n",
    "    lapse_data = pd.concat([n for n in lapse_data])\n",
    "    \n",
    "    # Do averaging and von mises fitting\n",
    "    n = utils.norm_group(lapse_data, group_cols=['nrem', 'nlapse', 'simulation'])\n",
    "    p = utils.fit_diff_vonmises(n, 'beta_adj', group_cols=['nrem', 'nlapse', 'simulation'])\n",
    "    \n",
    "    lapse_norm.append(n)\n",
    "    lapse_params.append(p)\n",
    "    \n",
    "lapse_norm = pd.concat(lapse_norm).reset_index(drop=True)\n",
    "lapse_params = pd.concat(lapse_params).reset_index(drop=True)"
   ]
  },
  {
   "cell_type": "markdown",
   "metadata": {},
   "source": [
    "Create group average data for each simulated data set and fit params"
   ]
  },
  {
   "cell_type": "code",
   "execution_count": 17,
   "metadata": {},
   "outputs": [],
   "source": [
    "lapse_norm.to_csv(op.join(df_dir, 'sim_lapse_group_ang_data.csv'), index=False)\n",
    "lapse_params.to_csv(op.join(df_dir, 'sim_lapse_group_ang_fits.csv'), index=False)"
   ]
  },
  {
   "cell_type": "code",
   "execution_count": 18,
   "metadata": {},
   "outputs": [],
   "source": [
    "del lapse_data\n",
    "rc.purge_everything()"
   ]
  },
  {
   "cell_type": "markdown",
   "metadata": {},
   "source": [
    "### 3. Associative Error Simulation"
   ]
  },
  {
   "cell_type": "code",
   "execution_count": 19,
   "metadata": {},
   "outputs": [],
   "source": [
    "def assoc_simulation(stim_group):\n",
    "    \n",
    "    import numpy\n",
    "    import pandas\n",
    "    \n",
    "    (rng, ((subj, roi), stim_df)) = stim_group\n",
    "    \n",
    "    # Rename some info in our df\n",
    "    stim_df = stim_df.rename(columns={'beta':'beta_true'})\n",
    "    \n",
    "    # Get the median beta and standard error for each voxel during perception\n",
    "    med_p, se_p = {}, {}\n",
    "    for stim, g in stim_df.groupby('stim_id'):\n",
    "        med_p[stim] = g.query(\"task=='perception'\")['beta_true'].values\n",
    "        se_p[stim] = g.query(\"task=='perception'\")['se'].values\n",
    "                \n",
    "    sim_betas = {s:[] for s in stim_ids}\n",
    "    for i in numpy.arange(n_sims):\n",
    "        \n",
    "        sorder = rng.permutation(stim_ids)\n",
    "        \n",
    "        for stim in stim_ids:\n",
    "            c = rng.normal(0, 1) \n",
    "            if stim in sorder[:nrem]:\n",
    "                # some stim are drawn from perception distribution of correct stimulus\n",
    "                n = [m + s for (m,s) in zip(med_p[stim], se_p[stim] * c)]\n",
    "            else:\n",
    "                # others are drawn from perception distribution of the *wrong* stimulus\n",
    "                rand_stim = rng.permutation(stim_ids[stim_ids!=stim])[0]\n",
    "                n = [m + s for (m,s) in zip(med_p[rand_stim], se_p[rand_stim] * c)]\n",
    "            sim_betas[stim].append(n)\n",
    "    \n",
    "    sim_data = []\n",
    "    for stim in stim_ids:\n",
    "        sim_betas[stim] = numpy.vstack(sim_betas[stim]).T\n",
    "    \n",
    "        # Create new dataframe with all simulations\n",
    "        sim_df  = pandas.DataFrame(sim_betas[stim], columns=numpy.arange(n_sims))\n",
    "        info_df = stim_df.query(\"task=='perception' & stim_id==@stim\").copy().reset_index(drop=True)\n",
    "        sd = pandas.concat([info_df, sim_df], axis=1)\n",
    "        sd = sd.melt(id_vars=sd.columns[:-n_sims], var_name='simulation', value_name='beta')\n",
    "        sd = sd.assign(nrem=nrem, n_assoc_err=len(stim_ids)-nrem)\n",
    "        sim_data.append(sd)\n",
    "    \n",
    "    sim_data = pandas.concat(sim_data)\n",
    "    \n",
    "    return sim_data"
   ]
  },
  {
   "cell_type": "code",
   "execution_count": 20,
   "metadata": {},
   "outputs": [
    {
     "name": "stderr",
     "output_type": "stream",
     "text": [
      "/Volumes/server/Projects/Spatial_Memory/public/osf/analysis_notebooks/utils.py:71: RuntimeWarning: overflow encountered in double_scalars\n",
      "  p = scale * np.exp(kappa*np.cos(theta-loc))/(2*np.pi*iv(0,kappa))\n",
      "/Volumes/server/Projects/Spatial_Memory/public/osf/analysis_notebooks/utils.py:71: RuntimeWarning: overflow encountered in exp\n",
      "  p = scale * np.exp(kappa*np.cos(theta-loc))/(2*np.pi*iv(0,kappa))\n",
      "/Volumes/server/Projects/Spatial_Memory/public/osf/analysis_notebooks/utils.py:71: RuntimeWarning: overflow encountered in multiply\n",
      "  p = scale * np.exp(kappa*np.cos(theta-loc))/(2*np.pi*iv(0,kappa))\n",
      "/Volumes/server/Projects/Spatial_Memory/public/osf/analysis_notebooks/utils.py:82: RuntimeWarning: invalid value encountered in subtract\n",
      "  d = Y - (max(Y) / 2)\n",
      "/Volumes/server/Projects/Spatial_Memory/public/osf/analysis_notebooks/utils.py:71: RuntimeWarning: overflow encountered in double_scalars\n",
      "  p = scale * np.exp(kappa*np.cos(theta-loc))/(2*np.pi*iv(0,kappa))\n",
      "/Volumes/server/Projects/Spatial_Memory/public/osf/analysis_notebooks/utils.py:71: RuntimeWarning: overflow encountered in multiply\n",
      "  p = scale * np.exp(kappa*np.cos(theta-loc))/(2*np.pi*iv(0,kappa))\n",
      "/Volumes/server/Projects/Spatial_Memory/public/osf/analysis_notebooks/utils.py:71: RuntimeWarning: invalid value encountered in true_divide\n",
      "  p = scale * np.exp(kappa*np.cos(theta-loc))/(2*np.pi*iv(0,kappa))\n",
      "/Volumes/server/Projects/Spatial_Memory/public/osf/analysis_notebooks/utils.py:71: RuntimeWarning: overflow encountered in exp\n",
      "  p = scale * np.exp(kappa*np.cos(theta-loc))/(2*np.pi*iv(0,kappa))\n",
      "/Volumes/server/Projects/Spatial_Memory/public/osf/analysis_notebooks/utils.py:71: RuntimeWarning: overflow encountered in multiply\n",
      "  p = scale * np.exp(kappa*np.cos(theta-loc))/(2*np.pi*iv(0,kappa))\n",
      "/Volumes/server/Projects/Spatial_Memory/public/osf/analysis_notebooks/utils.py:71: RuntimeWarning: invalid value encountered in true_divide\n",
      "  p = scale * np.exp(kappa*np.cos(theta-loc))/(2*np.pi*iv(0,kappa))\n",
      "/Volumes/server/Projects/Spatial_Memory/public/osf/analysis_notebooks/utils.py:71: RuntimeWarning: overflow encountered in double_scalars\n",
      "  p = scale * np.exp(kappa*np.cos(theta-loc))/(2*np.pi*iv(0,kappa))\n",
      "/Volumes/server/Projects/Spatial_Memory/public/osf/analysis_notebooks/utils.py:71: RuntimeWarning: overflow encountered in exp\n",
      "  p = scale * np.exp(kappa*np.cos(theta-loc))/(2*np.pi*iv(0,kappa))\n",
      "/Volumes/server/Projects/Spatial_Memory/public/osf/analysis_notebooks/utils.py:71: RuntimeWarning: overflow encountered in double_scalars\n",
      "  p = scale * np.exp(kappa*np.cos(theta-loc))/(2*np.pi*iv(0,kappa))\n",
      "/Volumes/server/Projects/Spatial_Memory/public/osf/analysis_notebooks/utils.py:71: RuntimeWarning: overflow encountered in exp\n",
      "  p = scale * np.exp(kappa*np.cos(theta-loc))/(2*np.pi*iv(0,kappa))\n",
      "/Volumes/server/Projects/Spatial_Memory/public/osf/analysis_notebooks/utils.py:71: RuntimeWarning: overflow encountered in multiply\n",
      "  p = scale * np.exp(kappa*np.cos(theta-loc))/(2*np.pi*iv(0,kappa))\n",
      "/Volumes/server/Projects/Spatial_Memory/public/osf/analysis_notebooks/utils.py:82: RuntimeWarning: invalid value encountered in subtract\n",
      "  d = Y - (max(Y) / 2)\n",
      "/Volumes/server/Projects/Spatial_Memory/public/osf/analysis_notebooks/utils.py:71: RuntimeWarning: overflow encountered in double_scalars\n",
      "  p = scale * np.exp(kappa*np.cos(theta-loc))/(2*np.pi*iv(0,kappa))\n",
      "/Volumes/server/Projects/Spatial_Memory/public/osf/analysis_notebooks/utils.py:71: RuntimeWarning: overflow encountered in exp\n",
      "  p = scale * np.exp(kappa*np.cos(theta-loc))/(2*np.pi*iv(0,kappa))\n",
      "/Volumes/server/Projects/Spatial_Memory/public/osf/analysis_notebooks/utils.py:71: RuntimeWarning: overflow encountered in multiply\n",
      "  p = scale * np.exp(kappa*np.cos(theta-loc))/(2*np.pi*iv(0,kappa))\n",
      "/Volumes/server/Projects/Spatial_Memory/public/osf/analysis_notebooks/utils.py:82: RuntimeWarning: invalid value encountered in subtract\n",
      "  d = Y - (max(Y) / 2)\n",
      "/Volumes/server/Projects/Spatial_Memory/public/osf/analysis_notebooks/utils.py:71: RuntimeWarning: overflow encountered in multiply\n",
      "  p = scale * np.exp(kappa*np.cos(theta-loc))/(2*np.pi*iv(0,kappa))\n",
      "/Volumes/server/Projects/Spatial_Memory/public/osf/analysis_notebooks/utils.py:71: RuntimeWarning: invalid value encountered in true_divide\n",
      "  p = scale * np.exp(kappa*np.cos(theta-loc))/(2*np.pi*iv(0,kappa))\n",
      "/Volumes/server/Projects/Spatial_Memory/public/osf/analysis_notebooks/utils.py:71: RuntimeWarning: overflow encountered in double_scalars\n",
      "  p = scale * np.exp(kappa*np.cos(theta-loc))/(2*np.pi*iv(0,kappa))\n",
      "/Volumes/server/Projects/Spatial_Memory/public/osf/analysis_notebooks/utils.py:71: RuntimeWarning: overflow encountered in exp\n",
      "  p = scale * np.exp(kappa*np.cos(theta-loc))/(2*np.pi*iv(0,kappa))\n",
      "/Volumes/server/Projects/Spatial_Memory/public/osf/analysis_notebooks/utils.py:71: RuntimeWarning: overflow encountered in double_scalars\n",
      "  p = scale * np.exp(kappa*np.cos(theta-loc))/(2*np.pi*iv(0,kappa))\n",
      "/Volumes/server/Projects/Spatial_Memory/public/osf/analysis_notebooks/utils.py:71: RuntimeWarning: overflow encountered in exp\n",
      "  p = scale * np.exp(kappa*np.cos(theta-loc))/(2*np.pi*iv(0,kappa))\n",
      "/Volumes/server/Projects/Spatial_Memory/public/osf/analysis_notebooks/utils.py:71: RuntimeWarning: overflow encountered in multiply\n",
      "  p = scale * np.exp(kappa*np.cos(theta-loc))/(2*np.pi*iv(0,kappa))\n",
      "/Volumes/server/Projects/Spatial_Memory/public/osf/analysis_notebooks/utils.py:82: RuntimeWarning: invalid value encountered in subtract\n",
      "  d = Y - (max(Y) / 2)\n",
      "/Volumes/server/Projects/Spatial_Memory/public/osf/analysis_notebooks/utils.py:71: RuntimeWarning: overflow encountered in multiply\n",
      "  p = scale * np.exp(kappa*np.cos(theta-loc))/(2*np.pi*iv(0,kappa))\n",
      "/Volumes/server/Projects/Spatial_Memory/public/osf/analysis_notebooks/utils.py:71: RuntimeWarning: invalid value encountered in true_divide\n",
      "  p = scale * np.exp(kappa*np.cos(theta-loc))/(2*np.pi*iv(0,kappa))\n",
      "/Volumes/server/Projects/Spatial_Memory/public/osf/analysis_notebooks/utils.py:71: RuntimeWarning: overflow encountered in double_scalars\n",
      "  p = scale * np.exp(kappa*np.cos(theta-loc))/(2*np.pi*iv(0,kappa))\n",
      "/Volumes/server/Projects/Spatial_Memory/public/osf/analysis_notebooks/utils.py:71: RuntimeWarning: overflow encountered in exp\n",
      "  p = scale * np.exp(kappa*np.cos(theta-loc))/(2*np.pi*iv(0,kappa))\n",
      "/Volumes/server/Projects/Spatial_Memory/public/osf/analysis_notebooks/utils.py:71: RuntimeWarning: overflow encountered in double_scalars\n",
      "  p = scale * np.exp(kappa*np.cos(theta-loc))/(2*np.pi*iv(0,kappa))\n",
      "/Volumes/server/Projects/Spatial_Memory/public/osf/analysis_notebooks/utils.py:71: RuntimeWarning: overflow encountered in multiply\n",
      "  p = scale * np.exp(kappa*np.cos(theta-loc))/(2*np.pi*iv(0,kappa))\n",
      "/Volumes/server/Projects/Spatial_Memory/public/osf/analysis_notebooks/utils.py:71: RuntimeWarning: invalid value encountered in true_divide\n",
      "  p = scale * np.exp(kappa*np.cos(theta-loc))/(2*np.pi*iv(0,kappa))\n",
      "/Volumes/server/Projects/Spatial_Memory/public/osf/analysis_notebooks/utils.py:71: RuntimeWarning: overflow encountered in exp\n",
      "  p = scale * np.exp(kappa*np.cos(theta-loc))/(2*np.pi*iv(0,kappa))\n",
      "/Volumes/server/Projects/Spatial_Memory/public/osf/analysis_notebooks/utils.py:71: RuntimeWarning: overflow encountered in double_scalars\n",
      "  p = scale * np.exp(kappa*np.cos(theta-loc))/(2*np.pi*iv(0,kappa))\n",
      "/Volumes/server/Projects/Spatial_Memory/public/osf/analysis_notebooks/utils.py:71: RuntimeWarning: overflow encountered in exp\n",
      "  p = scale * np.exp(kappa*np.cos(theta-loc))/(2*np.pi*iv(0,kappa))\n",
      "/Volumes/server/Projects/Spatial_Memory/public/osf/analysis_notebooks/utils.py:71: RuntimeWarning: overflow encountered in multiply\n",
      "  p = scale * np.exp(kappa*np.cos(theta-loc))/(2*np.pi*iv(0,kappa))\n",
      "/Volumes/server/Projects/Spatial_Memory/public/osf/analysis_notebooks/utils.py:71: RuntimeWarning: overflow encountered in double_scalars\n",
      "  p = scale * np.exp(kappa*np.cos(theta-loc))/(2*np.pi*iv(0,kappa))\n",
      "/Volumes/server/Projects/Spatial_Memory/public/osf/analysis_notebooks/utils.py:71: RuntimeWarning: overflow encountered in multiply\n",
      "  p = scale * np.exp(kappa*np.cos(theta-loc))/(2*np.pi*iv(0,kappa))\n",
      "/Volumes/server/Projects/Spatial_Memory/public/osf/analysis_notebooks/utils.py:71: RuntimeWarning: invalid value encountered in true_divide\n",
      "  p = scale * np.exp(kappa*np.cos(theta-loc))/(2*np.pi*iv(0,kappa))\n",
      "/Volumes/server/Projects/Spatial_Memory/public/osf/analysis_notebooks/utils.py:71: RuntimeWarning: overflow encountered in exp\n",
      "  p = scale * np.exp(kappa*np.cos(theta-loc))/(2*np.pi*iv(0,kappa))\n"
     ]
    },
    {
     "name": "stderr",
     "output_type": "stream",
     "text": [
      "/Volumes/server/Projects/Spatial_Memory/public/osf/analysis_notebooks/utils.py:71: RuntimeWarning: overflow encountered in double_scalars\n",
      "  p = scale * np.exp(kappa*np.cos(theta-loc))/(2*np.pi*iv(0,kappa))\n",
      "/Volumes/server/Projects/Spatial_Memory/public/osf/analysis_notebooks/utils.py:71: RuntimeWarning: overflow encountered in multiply\n",
      "  p = scale * np.exp(kappa*np.cos(theta-loc))/(2*np.pi*iv(0,kappa))\n",
      "/Volumes/server/Projects/Spatial_Memory/public/osf/analysis_notebooks/utils.py:71: RuntimeWarning: invalid value encountered in true_divide\n",
      "  p = scale * np.exp(kappa*np.cos(theta-loc))/(2*np.pi*iv(0,kappa))\n",
      "/Volumes/server/Projects/Spatial_Memory/public/osf/analysis_notebooks/utils.py:71: RuntimeWarning: overflow encountered in exp\n",
      "  p = scale * np.exp(kappa*np.cos(theta-loc))/(2*np.pi*iv(0,kappa))\n",
      "/Volumes/server/Projects/Spatial_Memory/public/osf/analysis_notebooks/utils.py:71: RuntimeWarning: overflow encountered in multiply\n",
      "  p = scale * np.exp(kappa*np.cos(theta-loc))/(2*np.pi*iv(0,kappa))\n",
      "/Volumes/server/Projects/Spatial_Memory/public/osf/analysis_notebooks/utils.py:71: RuntimeWarning: invalid value encountered in true_divide\n",
      "  p = scale * np.exp(kappa*np.cos(theta-loc))/(2*np.pi*iv(0,kappa))\n",
      "/Volumes/server/Projects/Spatial_Memory/public/osf/analysis_notebooks/utils.py:71: RuntimeWarning: overflow encountered in double_scalars\n",
      "  p = scale * np.exp(kappa*np.cos(theta-loc))/(2*np.pi*iv(0,kappa))\n",
      "/Volumes/server/Projects/Spatial_Memory/public/osf/analysis_notebooks/utils.py:71: RuntimeWarning: overflow encountered in exp\n",
      "  p = scale * np.exp(kappa*np.cos(theta-loc))/(2*np.pi*iv(0,kappa))\n",
      "/Volumes/server/Projects/Spatial_Memory/public/osf/analysis_notebooks/utils.py:71: RuntimeWarning: overflow encountered in multiply\n",
      "  p = scale * np.exp(kappa*np.cos(theta-loc))/(2*np.pi*iv(0,kappa))\n",
      "/Volumes/server/Projects/Spatial_Memory/public/osf/analysis_notebooks/utils.py:71: RuntimeWarning: invalid value encountered in true_divide\n",
      "  p = scale * np.exp(kappa*np.cos(theta-loc))/(2*np.pi*iv(0,kappa))\n",
      "/Volumes/server/Projects/Spatial_Memory/public/osf/analysis_notebooks/utils.py:71: RuntimeWarning: overflow encountered in double_scalars\n",
      "  p = scale * np.exp(kappa*np.cos(theta-loc))/(2*np.pi*iv(0,kappa))\n",
      "/Volumes/server/Projects/Spatial_Memory/public/osf/analysis_notebooks/utils.py:71: RuntimeWarning: overflow encountered in exp\n",
      "  p = scale * np.exp(kappa*np.cos(theta-loc))/(2*np.pi*iv(0,kappa))\n",
      "/Volumes/server/Projects/Spatial_Memory/public/osf/analysis_notebooks/utils.py:71: RuntimeWarning: overflow encountered in multiply\n",
      "  p = scale * np.exp(kappa*np.cos(theta-loc))/(2*np.pi*iv(0,kappa))\n",
      "/Volumes/server/Projects/Spatial_Memory/public/osf/analysis_notebooks/utils.py:71: RuntimeWarning: invalid value encountered in true_divide\n",
      "  p = scale * np.exp(kappa*np.cos(theta-loc))/(2*np.pi*iv(0,kappa))\n",
      "/Volumes/server/Projects/Spatial_Memory/public/osf/analysis_notebooks/utils.py:71: RuntimeWarning: overflow encountered in double_scalars\n",
      "  p = scale * np.exp(kappa*np.cos(theta-loc))/(2*np.pi*iv(0,kappa))\n",
      "/Volumes/server/Projects/Spatial_Memory/public/osf/analysis_notebooks/utils.py:71: RuntimeWarning: overflow encountered in exp\n",
      "  p = scale * np.exp(kappa*np.cos(theta-loc))/(2*np.pi*iv(0,kappa))\n",
      "/Volumes/server/Projects/Spatial_Memory/public/osf/analysis_notebooks/utils.py:82: RuntimeWarning: invalid value encountered in subtract\n",
      "  d = Y - (max(Y) / 2)\n",
      "/Volumes/server/Projects/Spatial_Memory/public/osf/analysis_notebooks/utils.py:71: RuntimeWarning: overflow encountered in multiply\n",
      "  p = scale * np.exp(kappa*np.cos(theta-loc))/(2*np.pi*iv(0,kappa))\n",
      "/Volumes/server/Projects/Spatial_Memory/public/osf/analysis_notebooks/utils.py:71: RuntimeWarning: invalid value encountered in true_divide\n",
      "  p = scale * np.exp(kappa*np.cos(theta-loc))/(2*np.pi*iv(0,kappa))\n",
      "/Volumes/server/Projects/Spatial_Memory/public/osf/analysis_notebooks/utils.py:71: RuntimeWarning: overflow encountered in double_scalars\n",
      "  p = scale * np.exp(kappa*np.cos(theta-loc))/(2*np.pi*iv(0,kappa))\n",
      "/Volumes/server/Projects/Spatial_Memory/public/osf/analysis_notebooks/utils.py:71: RuntimeWarning: overflow encountered in exp\n",
      "  p = scale * np.exp(kappa*np.cos(theta-loc))/(2*np.pi*iv(0,kappa))\n"
     ]
    }
   ],
   "source": [
    "nrem_range = np.arange(0, 5)\n",
    "\n",
    "child_seeds = ss.spawn(len(nrem_range))\n",
    "assoc_norm, assoc_params = [], []\n",
    "\n",
    "# Loop over the inverse of associative error rate (number of stim remembered)\n",
    "for seed, nrem in zip(child_seeds, nrem_range):\n",
    "    \n",
    "    # Handle parallelization\n",
    "    dv.push({\"nrem\":nrem})\n",
    "    d = vert_data.dropna(subset=['ang_dist_bin']).groupby(['subj', 'roi'])\n",
    "    \n",
    "    grandchildren = seed.spawn(len(d))\n",
    "    grand_streams = [default_rng(s) for s in grandchildren]\n",
    "    \n",
    "    # Generate simulated data for this rate\n",
    "    assoc_data = v.imap(assoc_simulation, zip(grand_streams, d), ordered=False)\n",
    "    assoc_data = pd.concat([n for n in assoc_data])\n",
    "    \n",
    "    # Do averaging and von mises fitting\n",
    "    n = utils.norm_group(assoc_data, group_cols=['nrem', 'n_assoc_err', 'simulation'])\n",
    "    p = utils.fit_diff_vonmises(n, 'beta_adj', group_cols=['nrem', 'n_assoc_err', 'simulation'])\n",
    "    \n",
    "    assoc_norm.append(n)\n",
    "    assoc_params.append(p)\n",
    "    \n",
    "assoc_norm = pd.concat(assoc_norm).reset_index(drop=True)\n",
    "assoc_params = pd.concat(assoc_params).reset_index(drop=True)"
   ]
  },
  {
   "cell_type": "code",
   "execution_count": 21,
   "metadata": {},
   "outputs": [],
   "source": [
    "assoc_norm.to_csv(op.join(df_dir, 'sim_assoc_group_ang_data.csv'), index=False)\n",
    "assoc_params.to_csv(op.join(df_dir, 'sim_assoc_group_ang_fits.csv'), index=False)"
   ]
  },
  {
   "cell_type": "code",
   "execution_count": 22,
   "metadata": {},
   "outputs": [],
   "source": [
    "del assoc_data\n",
    "rc.purge_everything()"
   ]
  },
  {
   "cell_type": "markdown",
   "metadata": {},
   "source": [
    "### 4. Angular Error Simulation"
   ]
  },
  {
   "cell_type": "code",
   "execution_count": 23,
   "metadata": {},
   "outputs": [],
   "source": [
    "def ang_simulation(stim_group):\n",
    "        \n",
    "    import numpy\n",
    "    import pandas\n",
    "        \n",
    "    (rng, ((subj, roi, stim), stim_df)) = stim_group\n",
    "    \n",
    "    # Rename some info in our df\n",
    "    stim_df = stim_df.rename(columns={'beta':'beta_true'})\n",
    "    \n",
    "    # Get the median beta and standard error for each voxel during perception\n",
    "    med_p = stim_df.query(\"task=='perception'\")['beta_true'].values\n",
    "    se_p = stim_df.query(\"task=='perception'\")['se'].values\n",
    "    \n",
    "    # Simulate perception data and a wrong position to remember this stimulus\n",
    "    sim_betas, mem_angles = [], []\n",
    "    for i in numpy.arange(n_sims):\n",
    "        \n",
    "        c = rng.normal(0, 1)\n",
    "        se_i = se_p * c #correlate noise across voxels\n",
    "        \n",
    "        n = [m + s for (m,s) in zip(med_p, se_i)]\n",
    "        sim_betas.append(n)\n",
    "        \n",
    "        ang = stim_df['stim_angle_brain'].iloc[0]\n",
    "        m = rng.normal(ang, err_std)\n",
    "        mem_angles.append(m)\n",
    "        \n",
    "    sim_betas = numpy.vstack(sim_betas).T\n",
    "    \n",
    "    # Create new dataframe with all simulations\n",
    "    sim_df  = pandas.DataFrame(sim_betas, columns=numpy.arange(n_sims))\n",
    "    info_df = stim_df.query(\"task=='perception'\").copy().reset_index(drop=True)\n",
    "    sim_data = pandas.concat([info_df, sim_df], axis=1)\n",
    "    sim_data = sim_data.melt(id_vars=sim_data.columns[:-n_sims], var_name='simulation', value_name='beta')\n",
    "    sim_data = sim_data.assign(err_std=err_std, mem_angle=numpy.repeat(mem_angles, len(info_df)))\n",
    "    \n",
    "    return sim_data"
   ]
  },
  {
   "cell_type": "code",
   "execution_count": 24,
   "metadata": {},
   "outputs": [
    {
     "name": "stderr",
     "output_type": "stream",
     "text": [
      "/Volumes/server/Projects/Spatial_Memory/public/osf/analysis_notebooks/utils.py:71: RuntimeWarning: overflow encountered in double_scalars\n",
      "  p = scale * np.exp(kappa*np.cos(theta-loc))/(2*np.pi*iv(0,kappa))\n",
      "/Volumes/server/Projects/Spatial_Memory/public/osf/analysis_notebooks/utils.py:71: RuntimeWarning: overflow encountered in multiply\n",
      "  p = scale * np.exp(kappa*np.cos(theta-loc))/(2*np.pi*iv(0,kappa))\n",
      "/Volumes/server/Projects/Spatial_Memory/public/osf/analysis_notebooks/utils.py:71: RuntimeWarning: invalid value encountered in true_divide\n",
      "  p = scale * np.exp(kappa*np.cos(theta-loc))/(2*np.pi*iv(0,kappa))\n",
      "/Volumes/server/Projects/Spatial_Memory/public/osf/analysis_notebooks/utils.py:71: RuntimeWarning: overflow encountered in exp\n",
      "  p = scale * np.exp(kappa*np.cos(theta-loc))/(2*np.pi*iv(0,kappa))\n",
      "/Volumes/server/Projects/Spatial_Memory/public/osf/analysis_notebooks/utils.py:71: RuntimeWarning: overflow encountered in double_scalars\n",
      "  p = scale * np.exp(kappa*np.cos(theta-loc))/(2*np.pi*iv(0,kappa))\n",
      "/Volumes/server/Projects/Spatial_Memory/public/osf/analysis_notebooks/utils.py:71: RuntimeWarning: overflow encountered in exp\n",
      "  p = scale * np.exp(kappa*np.cos(theta-loc))/(2*np.pi*iv(0,kappa))\n",
      "/Volumes/server/Projects/Spatial_Memory/public/osf/analysis_notebooks/utils.py:71: RuntimeWarning: overflow encountered in multiply\n",
      "  p = scale * np.exp(kappa*np.cos(theta-loc))/(2*np.pi*iv(0,kappa))\n",
      "/Volumes/server/Projects/Spatial_Memory/public/osf/analysis_notebooks/utils.py:71: RuntimeWarning: invalid value encountered in true_divide\n",
      "  p = scale * np.exp(kappa*np.cos(theta-loc))/(2*np.pi*iv(0,kappa))\n",
      "/Volumes/server/Projects/Spatial_Memory/public/osf/analysis_notebooks/utils.py:71: RuntimeWarning: overflow encountered in multiply\n",
      "  p = scale * np.exp(kappa*np.cos(theta-loc))/(2*np.pi*iv(0,kappa))\n",
      "/Volumes/server/Projects/Spatial_Memory/public/osf/analysis_notebooks/utils.py:71: RuntimeWarning: invalid value encountered in true_divide\n",
      "  p = scale * np.exp(kappa*np.cos(theta-loc))/(2*np.pi*iv(0,kappa))\n",
      "/Volumes/server/Projects/Spatial_Memory/public/osf/analysis_notebooks/utils.py:71: RuntimeWarning: overflow encountered in double_scalars\n",
      "  p = scale * np.exp(kappa*np.cos(theta-loc))/(2*np.pi*iv(0,kappa))\n",
      "/Volumes/server/Projects/Spatial_Memory/public/osf/analysis_notebooks/utils.py:71: RuntimeWarning: overflow encountered in exp\n",
      "  p = scale * np.exp(kappa*np.cos(theta-loc))/(2*np.pi*iv(0,kappa))\n",
      "/Volumes/server/Projects/Spatial_Memory/public/osf/analysis_notebooks/utils.py:71: RuntimeWarning: overflow encountered in double_scalars\n",
      "  p = scale * np.exp(kappa*np.cos(theta-loc))/(2*np.pi*iv(0,kappa))\n",
      "/Volumes/server/Projects/Spatial_Memory/public/osf/analysis_notebooks/utils.py:71: RuntimeWarning: overflow encountered in multiply\n",
      "  p = scale * np.exp(kappa*np.cos(theta-loc))/(2*np.pi*iv(0,kappa))\n",
      "/Volumes/server/Projects/Spatial_Memory/public/osf/analysis_notebooks/utils.py:71: RuntimeWarning: invalid value encountered in true_divide\n",
      "  p = scale * np.exp(kappa*np.cos(theta-loc))/(2*np.pi*iv(0,kappa))\n",
      "/Volumes/server/Projects/Spatial_Memory/public/osf/analysis_notebooks/utils.py:71: RuntimeWarning: overflow encountered in exp\n",
      "  p = scale * np.exp(kappa*np.cos(theta-loc))/(2*np.pi*iv(0,kappa))\n",
      "/Volumes/server/Projects/Spatial_Memory/public/osf/analysis_notebooks/utils.py:71: RuntimeWarning: overflow encountered in multiply\n",
      "  p = scale * np.exp(kappa*np.cos(theta-loc))/(2*np.pi*iv(0,kappa))\n",
      "/Volumes/server/Projects/Spatial_Memory/public/osf/analysis_notebooks/utils.py:71: RuntimeWarning: invalid value encountered in true_divide\n",
      "  p = scale * np.exp(kappa*np.cos(theta-loc))/(2*np.pi*iv(0,kappa))\n",
      "/Volumes/server/Projects/Spatial_Memory/public/osf/analysis_notebooks/utils.py:71: RuntimeWarning: overflow encountered in double_scalars\n",
      "  p = scale * np.exp(kappa*np.cos(theta-loc))/(2*np.pi*iv(0,kappa))\n",
      "/Volumes/server/Projects/Spatial_Memory/public/osf/analysis_notebooks/utils.py:71: RuntimeWarning: overflow encountered in exp\n",
      "  p = scale * np.exp(kappa*np.cos(theta-loc))/(2*np.pi*iv(0,kappa))\n",
      "/Volumes/server/Projects/Spatial_Memory/public/osf/analysis_notebooks/utils.py:71: RuntimeWarning: overflow encountered in double_scalars\n",
      "  p = scale * np.exp(kappa*np.cos(theta-loc))/(2*np.pi*iv(0,kappa))\n",
      "/Volumes/server/Projects/Spatial_Memory/public/osf/analysis_notebooks/utils.py:71: RuntimeWarning: overflow encountered in multiply\n",
      "  p = scale * np.exp(kappa*np.cos(theta-loc))/(2*np.pi*iv(0,kappa))\n",
      "/Volumes/server/Projects/Spatial_Memory/public/osf/analysis_notebooks/utils.py:71: RuntimeWarning: invalid value encountered in true_divide\n",
      "  p = scale * np.exp(kappa*np.cos(theta-loc))/(2*np.pi*iv(0,kappa))\n",
      "/Volumes/server/Projects/Spatial_Memory/public/osf/analysis_notebooks/utils.py:71: RuntimeWarning: overflow encountered in exp\n",
      "  p = scale * np.exp(kappa*np.cos(theta-loc))/(2*np.pi*iv(0,kappa))\n",
      "/Volumes/server/Projects/Spatial_Memory/public/osf/analysis_notebooks/utils.py:71: RuntimeWarning: overflow encountered in multiply\n",
      "  p = scale * np.exp(kappa*np.cos(theta-loc))/(2*np.pi*iv(0,kappa))\n",
      "/Volumes/server/Projects/Spatial_Memory/public/osf/analysis_notebooks/utils.py:71: RuntimeWarning: invalid value encountered in true_divide\n",
      "  p = scale * np.exp(kappa*np.cos(theta-loc))/(2*np.pi*iv(0,kappa))\n",
      "/Volumes/server/Projects/Spatial_Memory/public/osf/analysis_notebooks/utils.py:71: RuntimeWarning: overflow encountered in double_scalars\n",
      "  p = scale * np.exp(kappa*np.cos(theta-loc))/(2*np.pi*iv(0,kappa))\n",
      "/Volumes/server/Projects/Spatial_Memory/public/osf/analysis_notebooks/utils.py:71: RuntimeWarning: overflow encountered in exp\n",
      "  p = scale * np.exp(kappa*np.cos(theta-loc))/(2*np.pi*iv(0,kappa))\n",
      "/Volumes/server/Projects/Spatial_Memory/public/osf/analysis_notebooks/utils.py:82: RuntimeWarning: invalid value encountered in subtract\n",
      "  d = Y - (max(Y) / 2)\n",
      "/Volumes/server/Projects/Spatial_Memory/public/osf/analysis_notebooks/utils.py:71: RuntimeWarning: overflow encountered in double_scalars\n",
      "  p = scale * np.exp(kappa*np.cos(theta-loc))/(2*np.pi*iv(0,kappa))\n",
      "/Volumes/server/Projects/Spatial_Memory/public/osf/analysis_notebooks/utils.py:71: RuntimeWarning: overflow encountered in exp\n",
      "  p = scale * np.exp(kappa*np.cos(theta-loc))/(2*np.pi*iv(0,kappa))\n",
      "/Volumes/server/Projects/Spatial_Memory/public/osf/analysis_notebooks/utils.py:71: RuntimeWarning: overflow encountered in multiply\n",
      "  p = scale * np.exp(kappa*np.cos(theta-loc))/(2*np.pi*iv(0,kappa))\n",
      "/Volumes/server/Projects/Spatial_Memory/public/osf/analysis_notebooks/utils.py:71: RuntimeWarning: overflow encountered in multiply\n",
      "  p = scale * np.exp(kappa*np.cos(theta-loc))/(2*np.pi*iv(0,kappa))\n",
      "/Volumes/server/Projects/Spatial_Memory/public/osf/analysis_notebooks/utils.py:71: RuntimeWarning: invalid value encountered in true_divide\n",
      "  p = scale * np.exp(kappa*np.cos(theta-loc))/(2*np.pi*iv(0,kappa))\n",
      "/Volumes/server/Projects/Spatial_Memory/public/osf/analysis_notebooks/utils.py:71: RuntimeWarning: overflow encountered in double_scalars\n",
      "  p = scale * np.exp(kappa*np.cos(theta-loc))/(2*np.pi*iv(0,kappa))\n",
      "/Volumes/server/Projects/Spatial_Memory/public/osf/analysis_notebooks/utils.py:71: RuntimeWarning: overflow encountered in exp\n",
      "  p = scale * np.exp(kappa*np.cos(theta-loc))/(2*np.pi*iv(0,kappa))\n",
      "/Volumes/server/Projects/Spatial_Memory/public/osf/analysis_notebooks/utils.py:71: RuntimeWarning: overflow encountered in double_scalars\n",
      "  p = scale * np.exp(kappa*np.cos(theta-loc))/(2*np.pi*iv(0,kappa))\n",
      "/Volumes/server/Projects/Spatial_Memory/public/osf/analysis_notebooks/utils.py:71: RuntimeWarning: overflow encountered in exp\n",
      "  p = scale * np.exp(kappa*np.cos(theta-loc))/(2*np.pi*iv(0,kappa))\n",
      "/Volumes/server/Projects/Spatial_Memory/public/osf/analysis_notebooks/utils.py:71: RuntimeWarning: overflow encountered in multiply\n",
      "  p = scale * np.exp(kappa*np.cos(theta-loc))/(2*np.pi*iv(0,kappa))\n",
      "/Volumes/server/Projects/Spatial_Memory/public/osf/analysis_notebooks/utils.py:71: RuntimeWarning: overflow encountered in double_scalars\n",
      "  p = scale * np.exp(kappa*np.cos(theta-loc))/(2*np.pi*iv(0,kappa))\n",
      "/Volumes/server/Projects/Spatial_Memory/public/osf/analysis_notebooks/utils.py:71: RuntimeWarning: overflow encountered in exp\n",
      "  p = scale * np.exp(kappa*np.cos(theta-loc))/(2*np.pi*iv(0,kappa))\n",
      "/Volumes/server/Projects/Spatial_Memory/public/osf/analysis_notebooks/utils.py:71: RuntimeWarning: overflow encountered in multiply\n",
      "  p = scale * np.exp(kappa*np.cos(theta-loc))/(2*np.pi*iv(0,kappa))\n",
      "/Volumes/server/Projects/Spatial_Memory/public/osf/analysis_notebooks/utils.py:82: RuntimeWarning: invalid value encountered in subtract\n",
      "  d = Y - (max(Y) / 2)\n"
     ]
    }
   ],
   "source": [
    "err_range = [0, 30, 60, 90, 180]\n",
    "\n",
    "child_seeds = ss.spawn(len(err_range))\n",
    "ang_norm, ang_params = [], []\n",
    "\n",
    "# Loop over angular error standard deviation\n",
    "for seed, err_std in zip(child_seeds, err_range):\n",
    "    \n",
    "    # Handle parallelization\n",
    "    dv.push({\"err_std\":err_std})\n",
    "    d = vert_data.dropna(subset=['ang_dist_bin']).groupby(['subj', 'roi', 'stim_id'])\n",
    "    \n",
    "    grandchildren = seed.spawn(len(d))\n",
    "    grand_streams = [default_rng(s) for s in grandchildren]\n",
    "    \n",
    "    # Generate simulated data for this std deviation\n",
    "    ang_data = v.map(ang_simulation, zip(grand_streams, d), ordered=False)\n",
    "    ang_data = pd.concat([n for n in ang_data])\n",
    "    ang_data = utils.calc_ang_distance(ang_data, rotate_by=\"mem_angle\", exclude_eccen=False)\n",
    "    \n",
    "    # Do averageing and von mises fitting\n",
    "    n = utils.norm_group(ang_data, group_cols=['err_std', 'simulation'])\n",
    "    p = utils.fit_diff_vonmises(n, 'beta_adj', group_cols=['err_std', 'simulation'])\n",
    "    \n",
    "    ang_norm.append(n)\n",
    "    ang_params.append(p)\n",
    "    \n",
    "ang_norm = pd.concat(ang_norm).reset_index(drop=True)\n",
    "ang_params = pd.concat(ang_params).reset_index(drop=True)"
   ]
  },
  {
   "cell_type": "code",
   "execution_count": 25,
   "metadata": {},
   "outputs": [],
   "source": [
    "ang_norm.to_csv(op.join(df_dir, 'sim_ang_group_ang_data.csv'), index=False)\n",
    "ang_params.to_csv(op.join(df_dir, 'sim_ang_group_ang_fits.csv'), index=False)"
   ]
  },
  {
   "cell_type": "code",
   "execution_count": 26,
   "metadata": {},
   "outputs": [],
   "source": [
    "del ang_data\n",
    "rc.purge_everything()"
   ]
  }
 ],
 "metadata": {
  "kernelspec": {
   "display_name": "Python 3 (ipykernel)",
   "language": "python",
   "name": "python3"
  },
  "language_info": {
   "codemirror_mode": {
    "name": "ipython",
    "version": 3
   },
   "file_extension": ".py",
   "mimetype": "text/x-python",
   "name": "python",
   "nbconvert_exporter": "python",
   "pygments_lexer": "ipython3",
   "version": "3.8.11"
  }
 },
 "nbformat": 4,
 "nbformat_minor": 2
}
