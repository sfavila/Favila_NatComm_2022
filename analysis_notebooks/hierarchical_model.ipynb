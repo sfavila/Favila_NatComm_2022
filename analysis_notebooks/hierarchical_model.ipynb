{
 "cells": [
  {
   "cell_type": "markdown",
   "metadata": {},
   "source": [
    "# Hierarchical model\n",
    "\n",
    "* Runs hierarchical model simulations\n",
    "* Creates dataframes that support the figures."
   ]
  },
  {
   "cell_type": "code",
   "execution_count": 1,
   "metadata": {},
   "outputs": [],
   "source": [
    "import os.path as op\n",
    "from scipy import stats, linalg\n",
    "import numpy as np\n",
    "import pandas as pd\n",
    "import itertools\n",
    "import utils"
   ]
  },
  {
   "cell_type": "markdown",
   "metadata": {},
   "source": [
    "## Set up"
   ]
  },
  {
   "cell_type": "markdown",
   "metadata": {},
   "source": [
    "Assign project paths and variables"
   ]
  },
  {
   "cell_type": "code",
   "execution_count": 2,
   "metadata": {},
   "outputs": [],
   "source": [
    "proj_dir = '/Volumes/server/Projects/Spatial_Memory/public/osf'\n",
    "data_dir = op.join(proj_dir, 'data')\n",
    "df_dir = op.join(data_dir, 'dataframes')"
   ]
  },
  {
   "cell_type": "markdown",
   "metadata": {},
   "source": [
    "## Hierarchical Model"
   ]
  },
  {
   "cell_type": "markdown",
   "metadata": {},
   "source": [
    "Set model parameters"
   ]
  },
  {
   "cell_type": "code",
   "execution_count": 3,
   "metadata": {},
   "outputs": [],
   "source": [
    "filter_sigmas = [5, 15, 30, 45]\n",
    "stim_sizes = [15, 30, 45, 60]\n",
    "n_layers = np.arange(4, 11, 2)\n",
    "\n",
    "stim_amp = 1\n",
    "x  = np.arange(-180,180,.5); #degrees"
   ]
  },
  {
   "cell_type": "markdown",
   "metadata": {},
   "source": [
    "Run model for each combination of filter size, stim size, and number of layers"
   ]
  },
  {
   "cell_type": "code",
   "execution_count": 4,
   "metadata": {},
   "outputs": [],
   "source": [
    "hier_mod = []\n",
    "for sigma, size, nlay in itertools.product(filter_sigmas, stim_sizes, n_layers):\n",
    "\n",
    "    # Make gaussian filter\n",
    "    gauss = stats.norm(0, sigma)\n",
    "    g = gauss.pdf(x) \n",
    "    g = g/np.sum(g)\n",
    "\n",
    "    # Convert filter to Toeplitz matrix\n",
    "    W = linalg.toeplitz(np.roll(g, int((len(x)+1)/2)));\n",
    "\n",
    "    # Make stimulus\n",
    "    S = np.zeros(x.shape)\n",
    "    stim_min = int(np.argwhere(x == -size/2))\n",
    "    stim_max = int(np.argwhere(x == size/2)) + 1\n",
    "    S[stim_min:stim_max] = stim_amp\n",
    "\n",
    "    # Start with stimulus and loop over each layer, multiplying each with Toeplitz matrix \n",
    "    # to get next layer (equivalent to convolution)\n",
    "    R = [S];\n",
    "    for ii in np.arange(nlay):\n",
    "        R.append(np.dot(W, R[ii]))  \n",
    "    R = np.vstack(R).T  \n",
    "\n",
    "    # Now start with the final perception response and run backwards\n",
    "    Rrev = [R[:, -1]]\n",
    "    for ii in np.arange(nlay-1):\n",
    "        Rrev.append(np.dot(W.T, Rrev[ii]))\n",
    "    Rrev = np.vstack(Rrev).T\n",
    "    \n",
    "    # Make forward and reverse dataframes\n",
    "    df_forward = pd.DataFrame(R[:, 1:], columns=np.arange(1, nlay+1))\n",
    "    df_forward = df_forward.assign(model='forward', theta=x, n_layers=nlay, filter_sigma=sigma, \n",
    "                                   stim_size=size, stim_amp=stim_amp)\n",
    "    df_reverse = pd.DataFrame(Rrev, columns=np.arange(nlay, 0, -1))\n",
    "    df_reverse = df_reverse.assign(model='reverse', theta=x, n_layers=nlay, filter_sigma=sigma,\n",
    "                                   stim_size=size, stim_amp=stim_amp)\n",
    "    \n",
    "    # Combine dataframes\n",
    "    df_mod = pd.concat([df_forward, df_reverse], sort=True).reset_index(drop=True)\n",
    "    df_mod = df_mod.melt(id_vars=['theta', 'model', 'n_layers', 'filter_sigma', 'stim_size', 'stim_amp'], \n",
    "                         var_name='layer', value_name='activity')\n",
    "    df_mod['activity'] = df_mod['activity'].transform(lambda x: x / df_mod['activity'].max()) #normalize response\n",
    "    \n",
    "    hier_mod.append(df_mod)\n",
    "\n",
    "hier_mod = pd.concat(hier_mod).reset_index(drop=True)"
   ]
  },
  {
   "cell_type": "markdown",
   "metadata": {},
   "source": [
    "Fit difference of vonmises to each layer in each simulation "
   ]
  },
  {
   "cell_type": "code",
   "execution_count": 5,
   "metadata": {},
   "outputs": [],
   "source": [
    "mod_params = utils.fit_diff_vonmises(hier_mod, 'activity', xvar='theta', \n",
    "                                     group_cols=['n_layers', 'filter_sigma', 'stim_size', \n",
    "                                                 'stim_amp', 'model', 'layer'], \n",
    "                                     drop_cols=['hemi', 'roi', 'task'])"
   ]
  },
  {
   "cell_type": "markdown",
   "metadata": {},
   "source": [
    "Write out model output and fits"
   ]
  },
  {
   "cell_type": "code",
   "execution_count": 6,
   "metadata": {},
   "outputs": [],
   "source": [
    "hier_mod.to_csv(op.join(df_dir, 'hierarchical_output.csv'), index=False)\n",
    "mod_params.to_csv(op.join(df_dir, 'hierarchical_fits.csv'), index=False)"
   ]
  }
 ],
 "metadata": {
  "kernelspec": {
   "display_name": "Python 3 (ipykernel)",
   "language": "python",
   "name": "python3"
  },
  "language_info": {
   "codemirror_mode": {
    "name": "ipython",
    "version": 3
   },
   "file_extension": ".py",
   "mimetype": "text/x-python",
   "name": "python",
   "nbconvert_exporter": "python",
   "pygments_lexer": "ipython3",
   "version": "3.8.11"
  }
 },
 "nbformat": 4,
 "nbformat_minor": 2
}
